{
 "cells": [
  {
   "cell_type": "markdown",
   "metadata": {},
   "source": [
    "# Data analysis relevent code"
   ]
  },
  {
   "cell_type": "code",
   "execution_count": null,
   "metadata": {},
   "outputs": [],
   "source": [
    "import matplotlib.pyplot as plt\n",
    "import seaborn as sns\n",
    "import numpy as np\n",
    "import pandas as pd\n",
    "import pyupset as pyu\n",
    "from numpy import NaN\n",
    "\n",
    "from sklearn.manifold import TSNE\n",
    "from sklearn.cluster import KMeans\n",
    "import os"
   ]
  },
  {
   "cell_type": "markdown",
   "metadata": {},
   "source": [
    "## Nascent Transcript (Correlation with ChIP result)"
   ]
  },
  {
   "cell_type": "code",
   "execution_count": null,
   "metadata": {},
   "outputs": [],
   "source": [
    "from scipy.stats import gaussian_kde"
   ]
  },
  {
   "cell_type": "code",
   "execution_count": null,
   "metadata": {},
   "outputs": [],
   "source": [
    "ChIP=pd.read_table(\"~/PIRCh-seq/pirch_chip_intron_rc.txt\",index_col=0)\n",
    "exon_rc=ChIP.apply(lambda x:x.apply(lambda x:int(x.split(\",\")[0])),axis=1)"
   ]
  },
  {
   "cell_type": "code",
   "execution_count": null,
   "metadata": {},
   "outputs": [],
   "source": [
    "for name in [\"H3K4me1\",\"H3K4me3\",\"H3K27ac\",\"H3K27me3\",\"H3K9me3\"]:\n",
    "    PIRCh_result=pd.read_table(\"~/v65/limma_\"+name+\"_filter.txt\",index_col=0)\n",
    "    chip=exon_rc.loc[PIRCh_result.index].dropna()\n",
    "    x=PIRCh_result.loc[chip.index][\"logFC\"]\n",
    "    y=np.log2(chip[\"ChIP_\"+name]+1)-np.log2(chip[\"ChIP_Input\"]+1)\n",
    "    xy = np.vstack([x,y])\n",
    "    z = gaussian_kde(xy)(xy)\n",
    "    plt.figure(figsize=[6,6])\n",
    "    plt.xlim([-6,6])\n",
    "    plt.ylim([-10,10])\n",
    "    plt.scatter(x,y,c=z,s=2,alpha=0.3)\n",
    "    A1, B1 = optimize.curve_fit(f_1, x, y)[0]  \n",
    "    x1 = np.arange(-6, 6, 0.01)  \n",
    "    y1 = A1*x1 + B1  \n",
    "    plt.plot(x1, y1,'r--',linewidth=2,)\n",
    "    plt.title(scipy.stats.pearsonr(x,y)[0]**2)\n",
    "    plt.savefig(\"../V10/nascent_transcription/v65_\"+name+\"_chip.pdf\")\n",
    "    plt.savefig(\"../V10/nascent_transcription/v65_\"+name+\"_chip.png\",dpi=300)\n",
    "    plt.show()"
   ]
  },
  {
   "cell_type": "markdown",
   "metadata": {},
   "source": [
    "## K-mean Cluster & T-SNE"
   ]
  },
  {
   "cell_type": "code",
   "execution_count": null,
   "metadata": {},
   "outputs": [],
   "source": [
    "    home=(\"~/PIRCh-seq/v65/\")\n",
    "    data=pd.read_table(\"~/v65/rpkm.txt\",index_col=0) # Read in Gene name\n",
    "    FD=pd.DataFrame([],index=data.index,columns=map(lambda x:x.split(\"_\")[1].split(\".\")[0],[x for x in os.listdir(home) if \"filter\" in x]))\n",
    "    pvalue=pd.DataFrame([],index=data.index,columns=map(lambda x:x.split(\"_\")[1].split(\".\")[0],[x for x in os.listdir(home) if \"filter\" in x]))\n",
    "    aver=pd.DataFrame([],index=data.index,columns=map(lambda x:x.split(\"_\")[1].split(\".\")[0],[x for x in os.listdir(home) if \"filter\" in x]))\n",
    "    for a in [x for x in os.listdir(home) if \"filter\" in x]:\n",
    "        temp=pd.read_table(home+a,index_col=0)\n",
    "        FD[a.split(\"_\")[1].split(\".\")[0]]=temp[\"logFC\"]\n",
    "        pvalue[a.split(\"_\")[1].split(\".\")[0]]=temp[\"P.Value\"]\n",
    "        aver[a.split(\"_\")[1].split(\".\")[0]]=temp[\"AveExpr\"]\n",
    "    FD=FD.fillna(value=0)\n",
    "    pvalue=pvalue.fillna(value=1)\n",
    "    aver=aver.fillna(value=0)\n",
    "    a=aver[aver.mean(axis=1)>1]\n",
    "    fdnc=FD.loc[a.loc[category[category!=\"Coding\"].index].dropna().index]\n",
    "    pnc=pvalue.loc[a.loc[category[category!=\"Coding\"].index].dropna().index]\n",
    "    def select(x):\n",
    "        name=x.name\n",
    "        result=[]\n",
    "        for a in x.index[1:]:\n",
    "            if (pnc.loc[name][a]<0.05) &(x[a]>0) :\n",
    "                result.append(x[a])\n",
    "            else:\n",
    "                result.append(0)\n",
    "        return pd.Series(result,index=x.index[1:])\n",
    "    temp=fdnc.apply(select,axis=1)   ##(filter FD > 0 & P-value < 0.05)\n",
    "    temp=temp[temp.sum(axis=1)!=0]\n",
    "    model=TSNE(n_components=2,n_iter=10000,learning_rate=200,random_state=40)\n",
    "    kmeans = KMeans(n_clusters=6,max_iter=10000)\n",
    "    tsne=pd.DataFrame(model.fit_transform(temp),index=temp.index)\n",
    "    kmeans.fit(tsne)\n",
    "    cluster=pd.Series(kmeans.labels_,index=tsne.index)\n",
    "    scatter(tsne,cluster)\n",
    "    ovl=temp.copy()\n",
    "    ovl[ovl>0]=1\n",
    "    k=ovl.groupby(cluster)\n",
    "    sns.heatmap((k.sum()/k.count()).iloc[:,[2,3,0,1,4,5]],cmap=\"Blues\")\n",
    "    plt.show()"
   ]
  },
  {
   "cell_type": "code",
   "execution_count": null,
   "metadata": {},
   "outputs": [],
   "source": [
    "FD.to_csv(\"~/PIRCh-seq/v65/v65_fd.txt\",sep=\"\\t\")\n",
    "temp.to_csv(\"~/PIRCh-seq/v65/v65_enrich.txt\",sep=\"\\t\")\n",
    "ovl.to_csv(\"~/PIRCh-seq/v65/v65_bin.txt\",sep=\"\\t\")\n",
    "(k.sum()/k.count()).iloc[[0,4,1,5,3,2],[2,3,0,1,4,5]].to_csv(\"~/PIRCh-seq/v65/v65_stateinfo.txt\",sep=\"\\t\")"
   ]
  },
  {
   "cell_type": "markdown",
   "metadata": {},
   "source": [
    "## Overlap with GRID/ChIRP/CHART result"
   ]
  },
  {
   "cell_type": "code",
   "execution_count": null,
   "metadata": {},
   "outputs": [],
   "source": [
    "cov=pd.read_table(\"~/PIRCh-seq/GRID_ChIRP_CHART/Peak.txt\",index_col=0)\n",
    "ovl=fdnc.iloc[:,[1,2,3,4,5]].loc[cov.index].dropna()\n",
    "final_gene=ovl.apply(lambda x:scipy.stats.spearmanr(x,cov.loc[x.name])[0],axis=1).loc[cov.mean(axis=1).sort_values(ascending=False).index].dropna()\n",
    "fig=plt.figure()\n",
    "ax1=fig.add_subplot(1,2,1)\n",
    "ax1=sns.heatmap(ovl.iloc[:,[2,3,0,1,4]].loc[final_gene.index].apply(lambda x:x.rank(),axis=1),cmap=\"Blues\",cbar=False,yticklabels=True)\n",
    "ax1=fig.add_subplot(1,2,2)\n",
    "ax2=sns.heatmap(cov.iloc[:,[2,3,0,1,4]].loc[final_gene.index].apply(lambda x:x.rank(),axis=1),cmap=\"Blues\",cbar=False,yticklabels=False)\n",
    "plt.savefig(\"~/PIRCh-seq/GRID_ChIRP_CHART/Heatmap_overlap.pdf\")\n",
    "#plt.show()"
   ]
  },
  {
   "cell_type": "markdown",
   "metadata": {},
   "source": [
    "## Nearby Coding gene expression"
   ]
  },
  {
   "cell_type": "code",
   "execution_count": null,
   "metadata": {},
   "outputs": [],
   "source": [
    "location=[x.rstrip().split() for x in open(\"/seq/f_anno/mm9_nc_nearby_coding_1000K.txt\")]\n",
    "nearby=pd.Series([x[4:] for x in location if len(x)>4],index=[x[1] for x in location if len(x)>4 ])\n",
    "express_data=aver[aver.mean(axis=1)>2][\"H3\"]\n",
    "label=pd.read_table(\"~/PIRCh-seq/v65/v65_bin.txt\",index_col=0)"
   ]
  },
  {
   "cell_type": "code",
   "execution_count": null,
   "metadata": {},
   "outputs": [],
   "source": [
    "def test_func(data):\n",
    "    t=express_data.ix[set([x for y in nearby.ix[data].dropna() for x in y])].dropna().values\n",
    "    return t\n",
    "\n",
    "e=cut10[[0,4,1,5,3,2]].apply(test_func)\n",
    "\n",
    "fig, axes = plt.subplots(nrows=1, ncols=1)\n",
    "n=axes.boxplot(e,notch=True,patch_artist=True)\n",
    "for patch, color in zip(n['boxes'], colorst):\n",
    "    patch.set_facecolor(color)\n",
    "plt.savefig(\"~/PIRCh-seq/v65/v65/v65_near1000K_withnot.pdf\")\n",
    "plt.show()"
   ]
  }
 ],
 "metadata": {
  "kernelspec": {
   "display_name": "Python 2",
   "language": "python",
   "name": "python2"
  },
  "language_info": {
   "codemirror_mode": {
    "name": "ipython",
    "version": 2
   },
   "file_extension": ".py",
   "mimetype": "text/x-python",
   "name": "python",
   "nbconvert_exporter": "python",
   "pygments_lexer": "ipython2",
   "version": "2.7.15"
  }
 },
 "nbformat": 4,
 "nbformat_minor": 2
}
